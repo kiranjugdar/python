# NumPy Treasure Hunt: A Middle School Adventure with Arrays

## Welcome to the Treasure Hunt!

In this activity, you'll learn about NumPy arrays while 
searching for hidden treasures. NumPy is a powerful tool used 
by data scientists and AI developers to work with data!

Let's start by importing NumPy and setting up our game:

```python
import numpy as np
import matplotlib.pyplot as plt
from IPython.display import clear_output
import time
import random
```

## Part 1: Creating Your Treasure Map

First, let's create a treasure map using a NumPy array. Each 
number on our map represents different terrain:
- 0: Empty space
- 1: Forest
- 2: Mountains
- 3: Desert
- 4: Lakes
- 9: Hidden Treasure!

```python
# Create a 6x6 treasure map
treasure_map = np.array([
    [1, 1, 2, 2, 3, 3],
    [1, 0, 2, 3, 3, 3],
    [0, 0, 4, 4, 3, 2],
    [0, 4, 4, 0, 2, 2],
    [3, 3, 0, 0, 1, 1],
    [3, 3, 3, 1, 1, 0]
])

# Let's hide 3 treasures in random locations
treasures = 3
for _ in range(treasures):
    x, y = random.randint(0, 5), random.randint(0, 5)
    treasure_map[x, y] = 9  # 9 represents treasure
    
print("Treasure Map Created! The treasures are hidden 
somewhere on this map...")
```

## Part 2: Visualizing Your Map

Let's visualize our treasure map! This will show what the 
terrain looks like, but the treasures will be hidden:

```python
def display_map(map_array, reveal_treasures=False):
    """Display the treasure map with colors for different 
terrain"""
    plt.figure(figsize=(8, 6))
    
    # Create a copy of the map for display
    display_map = map_array.copy()
    
    # Hide treasures unless specified
    if not reveal_treasures:
        display_map = np.where(display_map == 9, 
np.random.choice([0, 1, 2, 3, 4]), display_map)
    
    # Set colors for different terrain
    cmap = plt.cm.colors.ListedColormap(['lightgrey', 
'darkgreen', 'brown', 'yellow', 'blue', 'red'])
    bounds = [-0.5, 0.5, 1.5, 2.5, 3.5, 4.5, 9.5]
    norm = plt.cm.colors.BoundaryNorm(bounds, cmap.N)
    
    # Create the heatmap
    plt.imshow(display_map, cmap=cmap, norm=norm)
    
    # Add grid lines
    plt.grid(True, color='black', linestyle='-', 
linewidth=1.5)
    
    # Add row and column indices
    plt.xticks(range(map_array.shape[1]), 
range(map_array.shape[1]))
    plt.yticks(range(map_array.shape[0]), 
range(map_array.shape[0]))
    
    # Add labels
    terrain_types = ['Empty', 'Forest', 'Mountains', 
'Desert', 'Lakes']
    if reveal_treasures:
        terrain_types.append('Treasure!')
        handles = [plt.Rectangle((0,0), 1, 1, color=c) 
                 for c in ['lightgrey', 'darkgreen', 'brown', 
'yellow', 'blue', 'red']]
    else:
        handles = [plt.Rectangle((0,0), 1, 1, color=c) 
                  for c in ['lightgrey', 'darkgreen', 
'brown', 'yellow', 'blue']]
    
    plt.legend(handles, terrain_types, loc='upper left', 
bbox_to_anchor=(1, 1))
    
    plt.title("Treasure Map")
    plt.tight_layout()
    plt.show()

# Display the map without revealing treasures
display_map(treasure_map)
```

## Part 3: Learning NumPy Indexing to Find Treasures

Now let's learn how to use NumPy array indexing to search for 
treasures!

```python
def check_location(x, y):
    """Check if there's a treasure at the given 
coordinates"""
    if x < 0 or x >= treasure_map.shape[0] or y < 0 or y >= 
treasure_map.shape[1]:
        print("Oops! Those coordinates are outside the map. 
Try again!")
        return False
    
    if treasure_map[x, y] == 9:
        print("🎉 CONGRATULATIONS! You found a treasure! 🎉")
        return True
    else:
        terrain = ["an empty space", "a forest", "mountains", 
"a desert", "a lake"][treasure_map[x, y]]
        print(f"You searched at coordinates ({x}, {y}) and 
found {terrain}. Keep looking!")
        return False
```

# Challenge 1: Find Your First Treasure

Let's try to find a treasure by searching at specific 
coordinates! In NumPy, we access elements in a 2D array using 
the syntax: `array[row, column]`

```python
# Try searching at coordinates (2, 3)
print("Let's search at coordinates (2, 3):")
found = check_location(2, 3)
```

# Challenge 2: Explore Using Slices

In NumPy, you can select entire rows, columns, or sections 
using slices. Let's explore a row to see what's there:

```python
# Let's look at the entire 3rd row (index 2)
print("\nExploring the entire 3rd row (index 2):")
print(f"Row 2 contains: {treasure_map[2, :]}")

# What terrain types are in this row?
for i, terrain in enumerate(treasure_map[2, :]):
    terrain_name = ["an empty space", "a forest", 
"mountains", "a desert", "a lake", "unknown", "unknown", 
"unknown", "unknown", "a treasure!"][int(terrain)]
    print(f"Position (2, {i}) has {terrain_name}")
```

# Challenge 3: Using Conditions to Find Treasures

NumPy allows us to use conditions to find elements in an 
array. Let's try to narrow down where the treasures might be:

```python
# Let's find all desert locations (value 3) - treasures might 
be hidden in the desert!
print("\nLooking for desert locations...")
desert_locations = np.where(treasure_map == 3)

print(f"Desert locations found at coordinates:")
for i in range(len(desert_locations[0])):
    print(f"({desert_locations[0][i]}, 
{desert_locations[1][i]})")

# Let's check if any of these desert locations contain 
treasure
print("\nLet's check one of these desert locations for 
treasure:")
if len(desert_locations[0]) > 0:
    # Check the first desert location
    x, y = desert_locations[0][0], desert_locations[1][0]
    found = check_location(x, y)
```

# Challenge 4: Find All Treasures

Now it's your turn to find all the treasures! You can use any 
of the techniques we've learned:
1. Check specific coordinates
2. Explore rows or columns using slices
3. Look for patterns or specific terrain types

```python
# Your code here to search for treasures
# For example:
# found = check_location(1, 4)  # Check if there's treasure 
at (1, 4)
# print(treasure_map[3, :])     # Look at the entire 4th row
```

# Reveal the Treasures

Once you think you've found all the treasures (or if you're 
stuck), you can reveal their locations:

```python
print("\nRevealing all treasure locations:")
display_map(treasure_map, reveal_treasures=True)

treasure_locations = np.where(treasure_map == 9)
print("Treasures were hidden at:")
for i in range(len(treasure_locations[0])):
    print(f"({treasure_locations[0][i]}, 
{treasure_locations[1][i]})")
```

## Part 4: Advanced Treasure Hunt Challenges

Now that you've mastered the basics, try these advanced 
challenges!

```python
# Let's create a larger, more complex treasure map
large_map = np.random.choice([0, 1, 2, 3, 4], size=(10, 10))

# Hide 5 treasures
for _ in range(5):
    x, y = random.randint(0, 9), random.randint(0, 9)
    large_map[x, y] = 9

print("New Advanced Treasure Map Created!")
display_map(large_map)

# Challenge 1: Find treasures in the top-right quadrant
print("\nChallenge: Find treasures in the top-right quadrant 
(rows 0-4, columns 5-9)")
top_right = large_map[0:5, 5:10]
treasure_count = np.sum(top_right == 9)
print(f"There are {treasure_count} treasures in the top-right 
quadrant")

# Challenge 2: Find treasures in even-indexed rows
even_rows = large_map[::2, :]  # Select rows 0, 2, 4, 6, 8
treasure_count = np.sum(even_rows == 9)
print(f"There are {treasure_count} treasures in even-indexed 
rows")

# Challenge 3: Find treasures along the diagonal
diagonal = np.diag(large_map)
treasure_count = np.sum(diagonal == 9)
print(f"There are {treasure_count} treasures along the main 
diagonal")

# Final reveal
print("\nRevealing all treasure locations on the advanced 
map:")
display_map(large_map, reveal_treasures=True)
```

## Part 5: Create Your Own Treasure Hunt!

Now it's your turn to create a treasure hunt for a friend! 
Define your own map, hide treasures, and write clues using 
NumPy techniques:

```python
# Create your own map
my_map = np.zeros((8, 8))

# Add different terrains
# For example: mountains along the top edge
my_map[0, :] = 2

# Add forests on the left side
my_map[:, 0] = 1

# Add a lake in the middle
my_map[3:5, 3:5] = 4

# Add some desert
my_map[5:8, 5:8] = 3

# Hide your treasures
# Example: my_map[1, 6] = 9

# Display your map
print("My Custom Treasure Map:")
display_map(my_map)

# Write a clue for your friend
print("Clue: Look along the edge of the forest, where it 
meets the mountains...")
```

Congratulations on completing the NumPy Treasure Hunt! You've 
learned about:
1. Creating and visualizing NumPy arrays
2. Accessing elements using indexing and slicing
3. Using conditions to find specific values
4. Working with more advanced array operations

These skills are the same ones used by data scientists and AI 
developers to work with data. Keep exploring!
