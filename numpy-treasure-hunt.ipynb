
# NumPy Treasure Hunt: A Middle School Adventure with 
Arrays

## Welcome to the Treasure Hunt!

In this activity, you'll learn about NumPy arrays while 
searching for hidden treasures. NumPy is a powerful tool 
used by data scientists and AI developers to work with 
data!

Let's start by importing NumPy and setting up our game:

